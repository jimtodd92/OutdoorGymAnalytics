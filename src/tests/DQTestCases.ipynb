{
 "cells": [
  {
   "cell_type": "code",
   "source": [
    "def check_record_count(df):\n  return df.count()\n\ndef check_date_range(df, test_col, start_date, end_date):\n  return df.select(test_col).filter(f\"{test_col} >= '{start_date}' AND {test_col} <= '{end_date}'\").count()\n\ndef check_negative_values(df):\n  numeric_cols = [f.name for f in df.schema.fields if isinstance(f.dataType, IntegerType)]\n  min_lst = df.groupBy().min(*numeric_cols).rdd.flatMap(lambda x: x).collect()\n  return any(n < 0 for n in min_lst)"
   ],
   "metadata": {
    "application/vnd.databricks.v1+cell": {
     "title": "",
     "showTitle": false,
     "inputWidgets": {},
     "nuid": "6dab490e-b6f8-4985-92e9-4c639baab665"
    }
   },
   "outputs": [
    {
     "output_type": "display_data",
     "metadata": {
      "application/vnd.databricks.v1+output": {
       "datasetInfos": [],
       "data": "<div class=\"ansiout\"></div>",
       "removedWidgets": [],
       "addedWidgets": {},
       "metadata": {},
       "type": "html",
       "arguments": {}
      }
     },
     "data": {
      "text/html": [
       "<style scoped>\n  .ansiout {\n    display: block;\n    unicode-bidi: embed;\n    white-space: pre-wrap;\n    word-wrap: break-word;\n    word-break: break-all;\n    font-family: \"Source Code Pro\", \"Menlo\", monospace;;\n    font-size: 13px;\n    color: #555;\n    margin-left: 4px;\n    line-height: 19px;\n  }\n</style>\n<div class=\"ansiout\"></div>"
      ]
     }
    }
   ],
   "execution_count": 0
  },
  {
   "cell_type": "code",
   "source": [
    ""
   ],
   "metadata": {
    "application/vnd.databricks.v1+cell": {
     "title": "",
     "showTitle": false,
     "inputWidgets": {},
     "nuid": "2a427822-933c-4907-bf9f-5a807bcded42"
    }
   },
   "outputs": [
    {
     "output_type": "display_data",
     "metadata": {
      "application/vnd.databricks.v1+output": {
       "data": "",
       "errorSummary": "",
       "metadata": {},
       "errorTraceType": null,
       "type": "ipynbError",
       "arguments": {}
      }
     },
     "data": {
      "text/html": [
       "<style scoped>\n  .ansiout {\n    display: block;\n    unicode-bidi: embed;\n    white-space: pre-wrap;\n    word-wrap: break-word;\n    word-break: break-all;\n    font-family: \"Source Code Pro\", \"Menlo\", monospace;;\n    font-size: 13px;\n    color: #555;\n    margin-left: 4px;\n    line-height: 19px;\n  }\n</style>"
      ]
     }
    }
   ],
   "execution_count": 0
  }
 ],
 "metadata": {
  "application/vnd.databricks.v1+notebook": {
   "notebookName": "DQTestCases",
   "dashboards": [],
   "notebookMetadata": {
    "pythonIndentUnit": 2
   },
   "language": "python",
   "widgets": {},
   "notebookOrigID": 3702242775282756
  }
 },
 "nbformat": 4,
 "nbformat_minor": 0
}